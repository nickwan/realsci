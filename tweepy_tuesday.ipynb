{
 "cells": [
  {
   "cell_type": "code",
   "execution_count": 1,
   "metadata": {
    "collapsed": true
   },
   "outputs": [],
   "source": [
    "import tweepy\n",
    "import pandas as pd\n",
    "import numpy as np\n",
    "import matplotlib.pyplot as plt\n",
    "%matplotlib inline\n",
    "import seaborn as sns\n",
    "import json\n",
    "import datetime"
   ]
  },
  {
   "cell_type": "code",
   "execution_count": 2,
   "metadata": {
    "collapsed": false
   },
   "outputs": [],
   "source": [
    "df = pd.read_csv('keys.csv')"
   ]
  },
  {
   "cell_type": "code",
   "execution_count": 3,
   "metadata": {
    "collapsed": false,
    "scrolled": true
   },
   "outputs": [],
   "source": [
    "auth = tweepy.OAuthHandler(df['KEY'].values[0], df['SECRET'].values[0])\n",
    "auth.set_access_token(df['ACCESS_TOKEN'].values[0], df['ACCESS_SECRET'].values[0])\n",
    "api = tweepy.API(auth)"
   ]
  },
  {
   "cell_type": "code",
   "execution_count": 4,
   "metadata": {
    "collapsed": false
   },
   "outputs": [
    {
     "data": {
      "text/plain": [
       "<tweepy.cursor.ItemIterator at 0x1193cc128>"
      ]
     },
     "execution_count": 4,
     "metadata": {},
     "output_type": "execute_result"
    }
   ],
   "source": [
    "data = tweepy.Cursor(api.search, q='realscientists').items(1000)\n",
    "data"
   ]
  },
  {
   "cell_type": "code",
   "execution_count": 5,
   "metadata": {
    "collapsed": false,
    "scrolled": false
   },
   "outputs": [],
   "source": [
    "tweets = [tweet for tweet in data]"
   ]
  },
  {
   "cell_type": "code",
   "execution_count": 6,
   "metadata": {
    "collapsed": false,
    "scrolled": true
   },
   "outputs": [
    {
     "data": {
      "text/html": [
       "<div>\n",
       "<table border=\"1\" class=\"dataframe\">\n",
       "  <thead>\n",
       "    <tr style=\"text-align: right;\">\n",
       "      <th></th>\n",
       "      <th>created_at</th>\n",
       "      <th>followers</th>\n",
       "      <th>id</th>\n",
       "      <th>screen_name</th>\n",
       "      <th>text</th>\n",
       "    </tr>\n",
       "  </thead>\n",
       "  <tbody>\n",
       "    <tr>\n",
       "      <th>0</th>\n",
       "      <td>2017-07-26 03:23:36</td>\n",
       "      <td>52971.0</td>\n",
       "      <td>8.900499e+17</td>\n",
       "      <td>realscientists</td>\n",
       "      <td>Just quickly generating stuff through tweepy, ...</td>\n",
       "    </tr>\n",
       "    <tr>\n",
       "      <th>1</th>\n",
       "      <td>2017-07-26 03:22:26</td>\n",
       "      <td>52971.0</td>\n",
       "      <td>8.900496e+17</td>\n",
       "      <td>realscientists</td>\n",
       "      <td>And here's time of my tweets (both replies and...</td>\n",
       "    </tr>\n",
       "    <tr>\n",
       "      <th>2</th>\n",
       "      <td>2017-07-26 03:19:45</td>\n",
       "      <td>52971.0</td>\n",
       "      <td>8.900490e+17</td>\n",
       "      <td>realscientists</td>\n",
       "      <td>Time of data histo from people replying to me ...</td>\n",
       "    </tr>\n",
       "    <tr>\n",
       "      <th>3</th>\n",
       "      <td>2017-07-26 03:19:04</td>\n",
       "      <td>52971.0</td>\n",
       "      <td>8.900488e+17</td>\n",
       "      <td>realscientists</td>\n",
       "      <td>Some stats from the last two days! Follower co...</td>\n",
       "    </tr>\n",
       "    <tr>\n",
       "      <th>4</th>\n",
       "      <td>2017-07-26 01:29:00</td>\n",
       "      <td>714.0</td>\n",
       "      <td>8.900211e+17</td>\n",
       "      <td>BrightLikeA442</td>\n",
       "      <td>@realscientists @CuteEmergency @nickwan Thanks...</td>\n",
       "    </tr>\n",
       "  </tbody>\n",
       "</table>\n",
       "</div>"
      ],
      "text/plain": [
       "           created_at  followers            id     screen_name  \\\n",
       "0 2017-07-26 03:23:36    52971.0  8.900499e+17  realscientists   \n",
       "1 2017-07-26 03:22:26    52971.0  8.900496e+17  realscientists   \n",
       "2 2017-07-26 03:19:45    52971.0  8.900490e+17  realscientists   \n",
       "3 2017-07-26 03:19:04    52971.0  8.900488e+17  realscientists   \n",
       "4 2017-07-26 01:29:00      714.0  8.900211e+17  BrightLikeA442   \n",
       "\n",
       "                                                text  \n",
       "0  Just quickly generating stuff through tweepy, ...  \n",
       "1  And here's time of my tweets (both replies and...  \n",
       "2  Time of data histo from people replying to me ...  \n",
       "3  Some stats from the last two days! Follower co...  \n",
       "4  @realscientists @CuteEmergency @nickwan Thanks...  "
      ]
     },
     "execution_count": 6,
     "metadata": {},
     "output_type": "execute_result"
    }
   ],
   "source": [
    "def tweepy_to_dict(tweet):\n",
    "    tweet_dict = json.loads(json.dumps(tweet._json))    \n",
    "    cropped_tweet_dict = {}\n",
    "    cropped_tweet_dict['screen_name'] = tweet_dict['user']['screen_name']\n",
    "    cropped_tweet_dict['followers'] = tweet_dict['user']['followers_count']\n",
    "    cropped_tweet_dict['created_at'] = tweet_dict['created_at']\n",
    "    cropped_tweet_dict['text'] = tweet_dict['text']\n",
    "    try:\n",
    "        cropped_tweet_dict['id'] = tweet_dict['retweeted_status']['id']\n",
    "    except:\n",
    "        cropped_tweet_dict['id'] = tweet_dict['id']\n",
    "    return cropped_tweet_dict\n",
    "\n",
    "df = pd.DataFrame(columns = ['screen_name', 'id', 'created_at', 'text'])\n",
    "for tweet in tweets:\n",
    "    df = df.append([tweepy_to_dict(tweet)])\n",
    "    df = df.reset_index(drop=1)\n",
    "df['created_at'] = pd.to_datetime(df['created_at'])\n",
    "df.head(5)"
   ]
  },
  {
   "cell_type": "code",
   "execution_count": 7,
   "metadata": {
    "collapsed": false,
    "scrolled": false
   },
   "outputs": [],
   "source": [
    "df.drop_duplicates(subset=['id'], inplace=1)"
   ]
  },
  {
   "cell_type": "code",
   "execution_count": 8,
   "metadata": {
    "collapsed": false,
    "scrolled": false
   },
   "outputs": [
    {
     "data": {
      "image/png": "[encoded data removed]",
      "text/plain": [
       "<matplotlib.figure.Figure at 0x11a731908>"
      ]
     },
     "metadata": {},
     "output_type": "display_data"
    },
    {
     "data": {
      "image/png": "[encoded data removed]",
      "text/plain": [
       "<matplotlib.figure.Figure at 0x11d568e10>"
      ]
     },
     "metadata": {},
     "output_type": "display_data"
    },
    {
     "name": "stderr",
     "output_type": "stream",
     "text": [
      "//anaconda/lib/python3.5/site-packages/ipykernel/__main__.py:29: SettingWithCopyWarning: \n",
      "A value is trying to be set on a copy of a slice from a DataFrame.\n",
      "Try using .loc[row_indexer,col_indexer] = value instead\n",
      "\n",
      "See the caveats in the documentation: http://pandas.pydata.org/pandas-docs/stable/indexing.html#indexing-view-versus-copy\n"
     ]
    },
    {
     "data": {
      "image/png": "[encoded data removed]",
      "text/plain": [
       "<matplotlib.figure.Figure at 0x11d9fc048>"
      ]
     },
     "metadata": {},
     "output_type": "display_data"
    }
   ],
   "source": [
    "\n",
    "clean_df = df.loc[(df['created_at'] >= np.datetime64('2017-07-23')) & \n",
    "                  (df['screen_name'] != 'realscientists') & \n",
    "                  (df['text'].str.find('RT') != 0)].drop_duplicates(subset=['screen_name'])\n",
    "\n",
    "def convert_hour(d):\n",
    "    dt = d\n",
    "    dt64 = np.datetime64(dt)\n",
    "    ts = (dt64 - np.datetime64('1970-01-01T00:00:00Z')) / np.timedelta64(1, 's')\n",
    "    x = datetime.datetime.utcfromtimestamp(ts)\n",
    "    return x.hour\n",
    "\n",
    "clean_df['hour'] = clean_df['created_at'].apply(convert_hour)\n",
    "\n",
    "clean_df.loc[clean_df['followers'].between(clean_df['followers'].describe()[4],clean_df['followers'].describe()[6]), \n",
    "             'followers'].hist(figsize=(10,8))\n",
    "plt.suptitle('Follower Histogram')\n",
    "plt.show()\n",
    "\n",
    "clean_df.loc[clean_df['followers'].between(clean_df['followers'].describe()[4],clean_df['followers'].describe()[6]), \n",
    "             'hour'].hist(bins=24, figsize=(10,8))\n",
    "plt.suptitle('Time of Follower Tweets Histogram')\n",
    "plt.show()\n",
    "\n",
    "\n",
    "my_df = df.loc[(df['created_at'] >= np.datetime64('2017-07-23')) & \n",
    "               (df['screen_name'] == 'realscientists') & \n",
    "               (df['text'].str.find('RT') != 0)]\n",
    "my_df['hour'] = my_df['created_at'].apply(convert_hour)\n",
    "\n",
    "my_df.loc[my_df['followers'].between(my_df['followers'].describe()[4],my_df['followers'].describe()[6]), \n",
    "             'hour'].hist(bins=24, figsize=(10,8))\n",
    "plt.suptitle('Time of My Tweets Histogram')\n",
    "plt.show()\n"
   ]
  }
 ],
 "metadata": {
  "kernelspec": {
   "display_name": "Python 3",
   "language": "python",
   "name": "python3"
  },
  "language_info": {
   "codemirror_mode": {
    "name": "ipython",
    "version": 3
   },
   "file_extension": ".py",
   "mimetype": "text/x-python",
   "name": "python",
   "nbconvert_exporter": "python",
   "pygments_lexer": "ipython3",
   "version": "3.5.2"
  }
 },
 "nbformat": 4,
 "nbformat_minor": 0
}
